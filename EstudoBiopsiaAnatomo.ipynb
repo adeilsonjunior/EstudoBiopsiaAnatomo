{
 "cells": [
  {
   "cell_type": "code",
   "execution_count": 9,
   "id": "25613201",
   "metadata": {
    "scrolled": false
   },
   "outputs": [
    {
     "name": "stdout",
     "output_type": "stream",
     "text": [
      "===ESTUDO BIOPSIA DE PROSTATA X ANATOMOPATOLOGICO===\n",
      "\n",
      "===1. Importação do Dataset - campos CO_PA_AUTORIZ,CO_PA_CNSPAC,CO_PA_PROC_ID,CO_PA_MVM,CO_PA_CMP,NU_PA_QTDAPR e NU_PA_VALAPR do dataset DataSet.dsv\n",
      "\n",
      "Quantidade bruta de registros: 165.166\n",
      "\n",
      "Realizando operação de group by \n",
      "\n",
      "Quantidade de registros após agrupamento: 150.519\n",
      "===2. Análise Exploratória\n",
      "\n",
      "Quantidade e percentual de registros identificados e não identificados:\n",
      "Pacientes identificados (CO_PA_CNSPAC não nulo): 150519 registros (100.00%)\n",
      "Pacientes não identificados (CO_PA_CNSPAC nulo): 0 registros (0.00%)\n",
      "\n",
      " FIM.\n"
     ]
    }
   ],
   "source": [
    "# Importando a biblioteca necessária\n",
    "import pandas as pd\n",
    "\n",
    "# Carregar o dataset com delimitador e codificação corretos\n",
    "dataset_producao = pd.read_csv(\n",
    "    'DataSet.dsv', \n",
    "    delimiter=';', \n",
    "    encoding='latin1', \n",
    "    dtype={'CO_PA_AUTORIZ': str, \n",
    "           'CO_PA_CNSPAC': str,\n",
    "           'CO_PA_PROC_ID': str,\n",
    "           'CO_PA_MVM': str,\n",
    "           'CO_PA_CMP': str,\n",
    "           'NU_PA_QTDAPR': str,\n",
    "           'NU_PA_VALAPR': str\n",
    "          },\n",
    "    low_memory=False\n",
    ")\n",
    "\n",
    "dataset_producao['NU_PA_QTDAPR'] = dataset_producao['NU_PA_QTDAPR'].str.replace(',', '.').astype(float)\n",
    "dataset_producao['NU_PA_VALAPR'] = dataset_producao['NU_PA_VALAPR'].str.replace(',', '.').astype(float)\n",
    "\n",
    "print(\"===ESTUDO BIOPSIA DE PROSTATA X ANATOMOPATOLOGICO===\")\n",
    "print(\"\\n===1. Importação do Dataset - campos CO_PA_AUTORIZ,CO_PA_CNSPAC,CO_PA_PROC_ID,CO_PA_MVM,CO_PA_CMP,NU_PA_QTDAPR e NU_PA_VALAPR do dataset DataSet.dsv\")\n",
    "\n",
    "# 1. Quantidade total e percentual de registros para pacientes identificados e não identificados (CO_PA_CNSPAC)\n",
    "total_registros = len(dataset_producao)\n",
    "print(f\"\\nQuantidade bruta de registros: {total_registros:,}\".replace(',', '.'))\n",
    "\n",
    "print(f\"\\nRealizando operação de group by \")\n",
    "\n",
    "dataset_producao_agrupado = dataset_producao.groupby(\n",
    "    [\"CO_PA_AUTORIZ\", \"CO_PA_CNSPAC\", \"CO_PA_PROC_ID\", \"CO_PA_MVM\", \"CO_PA_CMP\"],\n",
    "    as_index=False                    \n",
    ").agg({\n",
    "    'NU_PA_QTDAPR': 'sum',  \n",
    "    'NU_PA_VALAPR': 'sum'   \n",
    "})\n",
    "\n",
    "total_registros_apos_agrupamento=len(dataset_producao_agrupado)\n",
    "print(f\"\\nQuantidade de registros após agrupamento: {total_registros_apos_agrupamento:,}\".replace(',', '.'))\n",
    "\n",
    "cnspac_identificado = dataset_producao_agrupado['CO_PA_CNSPAC'].notna().sum()\n",
    "cnspac_nao_identificado = total_registros_apos_agrupamento - cnspac_identificado\n",
    "percentual_identificado = (cnspac_identificado / total_registros_apos_agrupamento) * 100\n",
    "percentual_nao_identificado = (cnspac_nao_identificado / total_registros_apos_agrupamento) * 100\n",
    "\n",
    "print(\"===2. Análise Exploratória\")\n",
    "print(\"\\nQuantidade e percentual de registros identificados e não identificados:\")\n",
    "print(f\"Pacientes identificados (CO_PA_CNSPAC não nulo): {cnspac_identificado} registros ({percentual_identificado:.2f}%)\")\n",
    "print(f\"Pacientes não identificados (CO_PA_CNSPAC nulo): {cnspac_nao_identificado} registros ({percentual_nao_identificado:.2f}%)\")\n",
    "\n",
    "\n",
    "\n",
    "print(\"\\n FIM.\")\n",
    "\n"
   ]
  },
  {
   "cell_type": "code",
   "execution_count": null,
   "id": "c4d75da2",
   "metadata": {},
   "outputs": [],
   "source": []
  }
 ],
 "metadata": {
  "kernelspec": {
   "display_name": "Python 3 (ipykernel)",
   "language": "python",
   "name": "python3"
  },
  "language_info": {
   "codemirror_mode": {
    "name": "ipython",
    "version": 3
   },
   "file_extension": ".py",
   "mimetype": "text/x-python",
   "name": "python",
   "nbconvert_exporter": "python",
   "pygments_lexer": "ipython3",
   "version": "3.9.13"
  }
 },
 "nbformat": 4,
 "nbformat_minor": 5
}
